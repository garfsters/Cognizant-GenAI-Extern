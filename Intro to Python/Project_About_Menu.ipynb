{
  "nbformat": 4,
  "nbformat_minor": 0,
  "metadata": {
    "colab": {
      "provenance": []
    },
    "kernelspec": {
      "name": "python3",
      "display_name": "Python 3"
    },
    "language_info": {
      "name": "python"
    }
  },
  "cells": [
    {
      "cell_type": "markdown",
      "source": [
        "# Project: About Menu\n",
        "## Author: Serenity Smith\n",
        "## [Link to Colab](https://colab.research.google.com/drive/14g52mjWn4gXaUvVZYBARgUAUeDTG5rRr?usp=sharing)"
      ],
      "metadata": {
        "id": "H4Zti7OYp1O9"
      }
    },
    {
      "cell_type": "code",
      "source": [
        "'''\n",
        "Step 1: Menu of Recursive Functions\n",
        "Create a program that presents a menu of choices:\n",
        "\n",
        "Calculate the factorial of a number.\n",
        "Find the nth Fibonacci number.\n",
        "Draw a recursive fractal pattern (bonus).\n",
        "Exit.\n",
        "The user should select an option by entering a number.\n",
        "\n",
        "Step 2: Factorial Function\n",
        "Implement a recursive function to calculate the factorial of a number and display the result.\n",
        "Example Run:\n",
        "\n",
        "plaintext\n",
        "Copy code\n",
        "Enter a number to find its factorial: 5 The factorial of 5 is 120.\n",
        "Step 3: Fibonacci Function\n",
        "Implement a recursive function to calculate the nth Fibonacci number and display the result.\n",
        "Example Run:\n",
        "\n",
        "Enter the position of the Fibonacci number: 7 The 7th Fibonacci number is 13.\n",
        "Step 4: Recursive Fractal Pattern (Bonus)\n",
        "Using the turtle library, create a recursive function to draw a fractal pattern (e.g., a tree or snowflake).\n",
        "Example Run: A simple fractal tree drawing! 🌳\n",
        "\n",
        "Step 5: User-Friendly Program\n",
        "Enhance the program with the following features:\n",
        "\n",
        "Input validation (e.g., check for positive integers).\n",
        "Friendly prompts and error messages.\n",
        "Comments explaining the purpose of each function.\n",
        "Example Run:\n",
        "\n",
        "Welcome to the Recursive Artistry Program! Choose an option: 1. Calculate Factorial 2. Find Fibonacci 3. Draw a Recursive Fractal 4. Exit > 1 Enter a number to find its factorial: 5 The factorial of 5 is 120."
      ],
      "metadata": {
        "id": "APZspGmKp9Cz"
      },
      "execution_count": null,
      "outputs": []
    },
    {
      "cell_type": "code",
      "source": [
        "def factorial(n):\n",
        "  if n == 1:\n",
        "    return 1\n",
        "  elif n > 1:\n",
        "    return n * factorial(n-1)\n",
        "  else:\n",
        "    return \"Impossible.\"\n",
        "\n",
        "def fibonacci(n):\n",
        "  if n <= 0:\n",
        "    return []\n",
        "  elif n == 1:\n",
        "    return[0]\n",
        "  else:\n",
        "    fib = [0,1]\n",
        "    while len(fib) < n:\n",
        "      next = fib[-1] + fib[-2]\n",
        "      fib.append(next)\n",
        "    next2 = fib[-1] + fib[-2]\n",
        "    fib.append(next2)\n",
        "    return fib[n]\n",
        "\n",
        "while True:\n",
        "  choice = int(input(\"What do you want to calculate?\\nType '1' for Factorial\\nType '2' for Fibonacci\\nType '3' to quit\\n\"))\n",
        "  if choice == 3:\n",
        "    print(\"See you soon!\")\n",
        "    break\n",
        "\n",
        "  if choice == 1:\n",
        "    num1 = int(input(\"Enter a number to find its factorial: \"))\n",
        "    print(f\"The factorial of {num1} is {factorial(num1)}.\\n\")\n",
        "\n",
        "  if choice == 2:\n",
        "    num2 = int(input(\"Enter the position of the Fibonacci Sequence you would like to find: \"))\n",
        "    print(f\"The number in position {num2} of the Fibonacci Sequence is {fibonacci(num2)}.\\n\")\n"
      ],
      "metadata": {
        "colab": {
          "base_uri": "https://localhost:8080/"
        },
        "id": "DmAM_RafqDku",
        "outputId": "4da3aabf-b835-4c35-b246-bee9a6efc3b9"
      },
      "execution_count": 8,
      "outputs": [
        {
          "output_type": "stream",
          "name": "stdout",
          "text": [
            "What do you want to calculate?\n",
            "Type '1' for Factorial\n",
            "Type '2' for Fibonacci\n",
            "Type '3' to quit\n",
            "1\n",
            "Enter a number to find its factorial: 5\n",
            "The factorial of 5 is 120.\n",
            "\n",
            "What do you want to calculate?\n",
            "Type '1' for Factorial\n",
            "Type '2' for Fibonacci\n",
            "Type '3' to quit\n",
            "2\n",
            "Enter the position of the Fibonacci Sequence you would like to find: 7\n",
            "The number in position 7 of the Fibonacci Sequence is 13.\n",
            "\n",
            "What do you want to calculate?\n",
            "Type '1' for Factorial\n",
            "Type '2' for Fibonacci\n",
            "Type '3' to quit\n",
            "3\n",
            "See you soon!\n"
          ]
        }
      ]
    }
  ]
}