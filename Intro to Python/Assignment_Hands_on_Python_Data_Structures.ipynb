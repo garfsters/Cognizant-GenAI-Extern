{
  "nbformat": 4,
  "nbformat_minor": 0,
  "metadata": {
    "colab": {
      "provenance": []
    },
    "kernelspec": {
      "name": "python3",
      "display_name": "Python 3"
    },
    "language_info": {
      "name": "python"
    }
  },
  "cells": [
    {
      "cell_type": "markdown",
      "source": [
        "# Assignment: Hands on Python Data Structures\n",
        "## Author: Serenity Smith\n",
        "## [Link to Colab](https://colab.research.google.com/drive/1gC3IbHAmuYTdYklDu8DAbiPGdGbg7Lxj?usp=sharing)"
      ],
      "metadata": {
        "id": "yKhhdgZ_BbzA"
      }
    },
    {
      "cell_type": "code",
      "source": [
        "'''\n",
        "Task 1 - Working with Lists\n",
        "\n",
        "Create a list of your favorite fruits. Add at least five fruits to the list.\n",
        "Perform the following operations:\n",
        "Append a new fruit to the list.\n",
        "Remove one fruit from the list using the remove() method.\n",
        "Print the list in reverse order using slicing.\n",
        "Example Output:\n",
        "\n",
        "Original list: ['apple', 'banana', 'cherry', 'date', 'elderberry']\n",
        "After adding a fruit: ['apple', 'banana', 'cherry', 'date', 'elderberry', 'fig']\n",
        "After removing a fruit: ['banana', 'cherry', 'date', 'elderberry', 'fig']\n",
        "Reversed list: ['fig', 'elderberry', 'date', 'cherry', 'banana']\n",
        "\n",
        "\n",
        "\n",
        "Task 2 - Exploring Dictionaries\n",
        "\n",
        "Create a dictionary to store information about yourself with the following keys: \"name\", \"age\", \"city\".\n",
        "Add a new key-value pair to the dictionary for \"favorite color\".\n",
        "Update the \"city\" key with a new value.\n",
        "Print all the keys and values using a loop.\n",
        "Example Output:\n",
        "\n",
        "Keys: name, age, city, favorite color\n",
        "Values: Alice, 25, New York, Blue\n",
        "\n",
        "\n",
        "\n",
        "Task 3 - Using Tuples\n",
        "\n",
        "Create a tuple with three elements: your favorite movie, song, and book.\n",
        "Try to change one of the elements (you’ll see why tuples are immutable!).\n",
        "Print the length of the tuple using the len() function.\n",
        "Example Output:\n",
        "\n",
        "Favorite things: ('Inception', 'Bohemian Rhapsody', '1984')\n",
        "Oops! Tuples cannot be changed.\n",
        "Length of tuple: 3\n",
        "'''"
      ],
      "metadata": {
        "id": "_tT4qrc-Bl1y"
      },
      "execution_count": null,
      "outputs": []
    },
    {
      "cell_type": "code",
      "source": [
        "# Task 1\n",
        "\n",
        "fruit = [\"grapes\", \"orange\", \"banana\", \"strawberry\", \"peach\"]\n",
        "print(fruit)\n",
        "\n",
        "fruit.append(\"apple\")\n",
        "print(fruit)\n",
        "\n",
        "fruit.remove(\"banana\")\n",
        "print(fruit)\n",
        "\n",
        "print(fruit[::-1])"
      ],
      "metadata": {
        "colab": {
          "base_uri": "https://localhost:8080/"
        },
        "id": "oGRKpkWzBza4",
        "outputId": "813d1cec-5250-4927-b6b6-06fd18b7749a"
      },
      "execution_count": 9,
      "outputs": [
        {
          "output_type": "stream",
          "name": "stdout",
          "text": [
            "['grapes', 'orange', 'banana', 'strawberry', 'peach']\n",
            "['grapes', 'orange', 'banana', 'strawberry', 'peach', 'apple']\n",
            "['grapes', 'orange', 'strawberry', 'peach', 'apple']\n",
            "['apple', 'peach', 'strawberry', 'orange', 'grapes']\n"
          ]
        }
      ]
    },
    {
      "cell_type": "code",
      "source": [
        "# Task 2\n",
        "me = {\"name\":\"Serenity\", \"age\":20, \"city\":\"New York City\"}\n",
        "print(me)\n",
        "\n",
        "me[\"favorite color\"] = \"purple\"\n",
        "print(me)\n",
        "\n",
        "newcity = {\"city\": \"Austin\"}\n",
        "me.update(newcity)\n",
        "print(me)\n",
        "\n",
        "print(\"Keys: \", end=\"\")\n",
        "for key in me:\n",
        "  print(key, end=\" \")\n",
        "\n",
        "print()\n",
        "\n",
        "print(\"Values: \", end=\"\")\n",
        "for value in me.values():\n",
        "  print(value, end=\" \")"
      ],
      "metadata": {
        "colab": {
          "base_uri": "https://localhost:8080/"
        },
        "id": "_yfhTRFMC1u_",
        "outputId": "f65e50c2-ce85-4fa5-d371-ebcdd2a5021c"
      },
      "execution_count": 22,
      "outputs": [
        {
          "output_type": "stream",
          "name": "stdout",
          "text": [
            "{'name': 'Serenity', 'age': 20, 'city': 'New York City'}\n",
            "{'name': 'Serenity', 'age': 20, 'city': 'New York City', 'favorite color': 'purple'}\n",
            "{'name': 'Serenity', 'age': 20, 'city': 'Austin', 'favorite color': 'purple'}\n",
            "Keys: name age city favorite color \n",
            "Values: Serenity 20 Austin purple "
          ]
        }
      ]
    },
    {
      "cell_type": "code",
      "source": [
        "# Task 3\n",
        "\n",
        "ff = (\"Midsommar\", \"Caraphernelia\", \"Fourth Wing\")\n",
        "print(ff)\n",
        "\n",
        "# ff.append(\"Pilates\")\n",
        "print(\"Tuples do not have have mutable features!\")\n",
        "\n",
        "print(f\"Length of tuple: {len(ff)}\")"
      ],
      "metadata": {
        "colab": {
          "base_uri": "https://localhost:8080/"
        },
        "id": "_UK-1_gyD1gb",
        "outputId": "2a51e51d-ce4e-4b67-b5e5-9adee0d9ce49"
      },
      "execution_count": 27,
      "outputs": [
        {
          "output_type": "stream",
          "name": "stdout",
          "text": [
            "('Midsommar', 'Caraphernelia', 'Fourth Wing')\n",
            "Tuples do not have have mutable features!\n",
            "Length of tuple: 3\n"
          ]
        }
      ]
    }
  ]
}