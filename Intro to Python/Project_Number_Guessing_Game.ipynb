{
  "nbformat": 4,
  "nbformat_minor": 0,
  "metadata": {
    "colab": {
      "provenance": []
    },
    "kernelspec": {
      "name": "python3",
      "display_name": "Python 3"
    },
    "language_info": {
      "name": "python"
    }
  },
  "cells": [
    {
      "cell_type": "markdown",
      "source": [
        "# Number Guessing Game\n",
        "## Author: Serenity Smith\n",
        "## [Link to Colab](https://colab.research.google.com/drive/1pzXdSdJQXnBXQJI5DwRwW7ab8Eb6Dwy3?usp=sharing)"
      ],
      "metadata": {
        "id": "Qqmv0HM67IIP"
      }
    },
    {
      "cell_type": "code",
      "source": [
        "'''\n",
        "Step 1: Generate a Random Number\n",
        "Use Python’s random module to generate a random number between 1 and 100.\n",
        "\n",
        "import random\n",
        "number_to_guess = random.randint(1, 100)\n",
        "Step 2: Prompt the User for Guesses\n",
        "Use a while loop to let the user keep guessing until they get the correct answer. After each guess:\n",
        "\n",
        "If the guess is too high, print: \"Too high! Try again.\"\n",
        "If the guess is too low, print: \"Too low! Try again.\"\n",
        "If the guess is correct, print: \"Congratulations! You guessed it!\"\n",
        "Step 3: Count the Attempts\n",
        "Keep track of how many guesses the user has made and display the total number of attempts when they win.\n",
        "\n",
        "Example Run:\n",
        "\n",
        "Guess the number (between 1 and 100): 50 Too high! Try again.\n",
        "Guess the number (between 1 and 100): 25 Too low! Try again.\n",
        "Guess the number (between 1 and 100): 37 Congratulations! You guessed it in 3 attempts!\n",
        "Bonus Task:\n",
        "\n",
        "Limit the number of attempts to 10. If the user fails to guess in 10 attempts, end the game with a message like \"Game over! Better luck next time!\"\n",
        "Make your program friendly, interactive, and fun to play! 😊\n",
        "'''"
      ],
      "metadata": {
        "id": "yJnNpmji7Qir"
      },
      "execution_count": null,
      "outputs": []
    },
    {
      "cell_type": "code",
      "source": [
        "import time\n",
        "import random\n",
        "\n",
        "print(\"\\nWelcome to the Guess the Number game!\\n\")\n",
        "time.sleep(2)\n",
        "\n",
        "guess = 0\n",
        "num = random.randint(1,100)\n",
        "count = 0\n",
        "ten = 10\n",
        "\n",
        "while guess != num:\n",
        "  for i in range(ten):\n",
        "    if ten != 1:\n",
        "      print(f\"\\nYou have {ten} guesses left.\\n\")\n",
        "      ten -= 1\n",
        "    elif ten == 1:\n",
        "      print(f\"\\nYou have {ten} guess left.\\n\")\n",
        "      ten -= 1\n",
        "    time.sleep(1)\n",
        "\n",
        "    guess = int(input(\"Guess a random number from 1-100: \"))\n",
        "    if guess > num:\n",
        "      print(\"Too high, try again :<\")\n",
        "      count += 1\n",
        "    elif guess < num:\n",
        "      print(\"Too low, try again :<\")\n",
        "      count += 1\n",
        "    else:\n",
        "      print(\"HECK YEAH!!!\")\n",
        "      count += 1\n",
        "      time.sleep(1)\n",
        "      print(f\"You got it in {count} tries!!\")\n",
        "      break\n",
        "  if guess != num:\n",
        "    time.sleep(1)\n",
        "    print(\"\\nOut of tries! Better luck next time :<\")\n",
        "    break"
      ],
      "metadata": {
        "colab": {
          "base_uri": "https://localhost:8080/"
        },
        "id": "Ja-_GHEP7Uuy",
        "outputId": "ea024cfd-300d-4d54-bcd4-1da63f3df5a5"
      },
      "execution_count": 21,
      "outputs": [
        {
          "output_type": "stream",
          "name": "stdout",
          "text": [
            "\n",
            "Welcome to the Guess the Number game!\n",
            "\n",
            "\n",
            "You have 10 guesses left.\n",
            "\n",
            "Guess a random number from 1-100: 50\n",
            "Too high, try again :<\n",
            "\n",
            "You have 9 guesses left.\n",
            "\n",
            "Guess a random number from 1-100: 25\n",
            "Too low, try again :<\n",
            "\n",
            "You have 8 guesses left.\n",
            "\n",
            "Guess a random number from 1-100: 35\n",
            "Too low, try again :<\n",
            "\n",
            "You have 7 guesses left.\n",
            "\n",
            "Guess a random number from 1-100: 45\n",
            "Too low, try again :<\n",
            "\n",
            "You have 6 guesses left.\n",
            "\n",
            "Guess a random number from 1-100: 46\n",
            "HECK YEAH!!!\n",
            "You got it in 5 tries!!\n"
          ]
        }
      ]
    }
  ]
}