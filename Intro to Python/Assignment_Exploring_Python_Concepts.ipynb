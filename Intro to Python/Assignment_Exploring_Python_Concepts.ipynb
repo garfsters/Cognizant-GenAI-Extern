{
  "nbformat": 4,
  "nbformat_minor": 0,
  "metadata": {
    "colab": {
      "provenance": []
    },
    "kernelspec": {
      "name": "python3",
      "display_name": "Python 3"
    },
    "language_info": {
      "name": "python"
    }
  },
  "cells": [
    {
      "cell_type": "markdown",
      "source": [
        "# Cognizant Generative AI Extern - Exploring Python Concepts\n",
        "## Author: Serenity Smith\n",
        "## Date: May 4th, 2025\n",
        "## [Link to Colab](https://colab.research.google.com/drive/1dvQduvMAUwV293vsbr7nNrAf2ojcW995?usp=sharing)"
      ],
      "metadata": {
        "id": "AwZSrZXTM5Gc"
      }
    },
    {
      "cell_type": "code",
      "execution_count": null,
      "metadata": {
        "id": "pxfA0Ds3MW-j"
      },
      "outputs": [],
      "source": [
        "'''\n",
        "Task 1 - Variables: Your First Python Intro\n",
        "Let’s start simple! Imagine you’re describing yourself (or anyone else you like) using Python variables.\n",
        "\n",
        "Create a name variable that stores a string (like your name or a fictional character’s name).\n",
        "Create an age variable that stores an integer value.\n",
        "Create a height variable that stores a floating-point number.\n",
        "For example, something like this:\n",
        "\n",
        "name = \"Alex\"\n",
        "age = 25\n",
        "height = 5.9\n",
        "Now print these variables in a friendly message:\n",
        "\n",
        "Example Output: \"Hey there, my name is Alex! I’m 25 years old and 5.9 feet tall.\"\n",
        "Feel free to get creative with the message! 🚀\n",
        "\n",
        "'''"
      ]
    },
    {
      "cell_type": "code",
      "source": [
        "name = input(\"What is your name? \")\n",
        "age = int(input(\"How old are you? [e.g. 20]\"))\n",
        "height = float(input(\"How tall are you? [e.g. 5.9]\"))\n",
        "\n",
        "print(\"Hi \" + name + \"! Nice name.\")\n",
        "\n",
        "print(\"I see that you are\", age, \"years old.\", end=' ')\n",
        "if age < 0:\n",
        "  print(\"Alright I know you're trolling like you literally cannot be less than 0. I am not an idiot.\")\n",
        "elif age >= 0 and age <= 18:\n",
        "  print(\"Bro how do you even have access to this, you're literally lying... like this has to be illegal.\")\n",
        "elif age > 18 and age <= 40:\n",
        "  print(\"You're so younggg, I hope you still have hair..\")\n",
        "else:\n",
        "  print(\"I know you are holding onto the 3 hairs left on your head.\")\n",
        "\n",
        "print(\"Anyways, I also see that you're\", height, \"feet tall.\", end=' ')\n",
        "if height < 0.0:\n",
        "  print(\"STOP LYING TO MEEEE BRO YOU CANNOT BE NEGATIVE HEIGHT.\")\n",
        "elif height < 5.0:\n",
        "  print(\"You're either a child, a little person, realllyyy short, or a LIARRRRRRRR!! >:c\")\n",
        "elif height < 5.8:\n",
        "  print(\"OYou're average height like me :D\")\n",
        "else:\n",
        "  print(\"WOW! you're so tall!\")"
      ],
      "metadata": {
        "colab": {
          "base_uri": "https://localhost:8080/"
        },
        "id": "GOIHqfUuM2MA",
        "outputId": "1399fbbe-6862-446d-ee82-275df828e885"
      },
      "execution_count": 6,
      "outputs": [
        {
          "output_type": "stream",
          "name": "stdout",
          "text": [
            "What is your name? Serenity\n",
            "How old are you? [e.g. 20]1\n",
            "How tall are you? [e.g. 5.9]1\n",
            "Hi Serenity! Nice name.\n",
            "I see that you are 1 years old. Bro how do you even have access to this, you're literally lying... like this has to be illegal.\n",
            "Anyways, I also see that you're 1.0 feet tall. You're either a child, a little person, realllyyy short, or a LIARRRRRRRR!! >:c\n"
          ]
        }
      ]
    },
    {
      "cell_type": "code",
      "source": [
        "'''\n",
        "Task 2 - Operators: Playing with Numbers\n",
        "We all love some math, don’t we? Okay, maybe not everyone, but trust me, this will be easy and fun!\n",
        "\n",
        "Pick two numbers, let’s say num1 and num2 (you choose the values!).\n",
        "Perform the following operations on these numbers:\n",
        "Addition\n",
        "Subtraction\n",
        "Multiplication\n",
        "Division\n",
        "Write your Python code to calculate and display the results with a nice message for each.\n",
        "For example:\n",
        "\n",
        "num1 = 10\n",
        "num2 = 3\n",
        "print(\"The sum of 10 and 3 is\", num1 + num2)\n",
        "Be sure to explain what you’re doing in comments! Bonus points if you throw in some humor. 😄\n",
        "'''"
      ],
      "metadata": {
        "id": "ZGFFjdmgMxKW"
      },
      "execution_count": null,
      "outputs": []
    },
    {
      "cell_type": "code",
      "source": [
        "num1 = float(input(\"Enter a number.. any number.. \"))\n",
        "num2 = float(input(\"Umm.. enter like another number? \"))\n",
        "\n",
        "# addition\n",
        "print(\"This is\", num1, \"and\", num2, \"added:\", end=' ')\n",
        "print(num1 + num2)\n",
        "\n",
        "# subtraction\n",
        "print(\"This is\", num1, \"and\", num2, \"subtracted:\", end=' ')\n",
        "print(num1 - num2)\n",
        "\n",
        "# multiplication\n",
        "print(\"This is\", num1, \"and\", num2, \"multiplied:\", end=' ')\n",
        "print(num1 * num2)\n",
        "\n",
        "# division\n",
        "# code doesn't run if divided by 0 bc it's undefined\n",
        "print(\"This is\", num1, \"and\", num2, \"divided:\", end=' ')\n",
        "if num2 == 0:\n",
        "  print(\"You cannot divide by 0..\")\n",
        "else:\n",
        "  print(num1/num2)\n",
        "\n",
        "\n"
      ],
      "metadata": {
        "colab": {
          "base_uri": "https://localhost:8080/"
        },
        "id": "m1gpbESNQUYS",
        "outputId": "4b052f15-bd80-4a6a-9652-602de189e643"
      },
      "execution_count": 11,
      "outputs": [
        {
          "output_type": "stream",
          "name": "stdout",
          "text": [
            "Enter a number.. any number.. 20\n",
            "Umm.. enter like another number? 0\n",
            "This is 20.0 and 0.0 added: 20.0\n",
            "This is 20.0 and 0.0 subtracted: 20.0\n",
            "This is 20.0 and 0.0 multiplied: 0.0\n",
            "This is 20.0 and 0.0 divided: You cannot divide by 0..\n"
          ]
        }
      ]
    },
    {
      "cell_type": "code",
      "source": [
        "'''\n",
        "Task 3 - Conditional Statements: The Number Checker\n",
        "Now for the real challenge: let’s make your code think!\n",
        "\n",
        "Write a program that takes a number from the user and tells them whether it’s positive, negative, or zero.\n",
        "Here’s how it should work:\n",
        "\n",
        "Ask the user to enter a number (use the input() function).\n",
        "Use if, elif, and else statements to check:\n",
        "If the number is greater than 0, print: \"This number is positive. Awesome!\"\n",
        "If the number is less than 0, print: \"This number is negative. Better luck next time!\"\n",
        "If the number is exactly 0, print: \"Zero it is. A perfect balance!\"\n",
        "Make sure to test your code with a few different numbers. You’ll be surprised how fun it is to see your program come to life! 💻✨\n",
        "'''"
      ],
      "metadata": {
        "id": "ybgOuxRbM0ys"
      },
      "execution_count": null,
      "outputs": []
    },
    {
      "cell_type": "code",
      "source": [
        "a = float(input(\"Enter the amount of $$ in your bank account: $\"))\n",
        "\n",
        "if a > 0:\n",
        "  print(\"Yay! Your bank account is in the positives meaning you have moneyyy.\")\n",
        "elif a < 0:\n",
        "  print(\"Oh nahhh, don't you have a job? Get your money up man. Your account is in the negatives...\")\n",
        "else:\n",
        "  print(\"I mean.. well.. it's not negative? But it ain't positive either. Get yo money up not yo funny up.\")"
      ],
      "metadata": {
        "colab": {
          "base_uri": "https://localhost:8080/"
        },
        "id": "3loDBs38SLBs",
        "outputId": "d005faed-4ccd-4876-e77e-04fd1f6fca20"
      },
      "execution_count": 16,
      "outputs": [
        {
          "output_type": "stream",
          "name": "stdout",
          "text": [
            "Enter the amount of $$ in your bank account: $2000\n",
            "Yay! Your bank account is in the positives meaning you have moneyyy.\n"
          ]
        }
      ]
    }
  ]
}