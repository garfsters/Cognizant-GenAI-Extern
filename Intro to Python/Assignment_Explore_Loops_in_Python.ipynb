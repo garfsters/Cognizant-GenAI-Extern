{
  "nbformat": 4,
  "nbformat_minor": 0,
  "metadata": {
    "colab": {
      "provenance": []
    },
    "kernelspec": {
      "name": "python3",
      "display_name": "Python 3"
    },
    "language_info": {
      "name": "python"
    }
  },
  "cells": [
    {
      "cell_type": "code",
      "execution_count": null,
      "metadata": {
        "id": "R2vyIxzJx3n1"
      },
      "outputs": [],
      "source": [
        "'''\n",
        "Task 1 - Counting Down with Loops\n",
        "Write a Python program to create a countdown timer.\n",
        "\n",
        "Ask the user for a starting number.\n",
        "Use a while loop to print numbers from that number down to 1.\n",
        "When the countdown ends, print a celebratory message like \"Blast off!\"\n",
        "For example:\n",
        "\n",
        "Enter the starting number: 5\n",
        "5 4 3 2 1 Blast off! 🚀\n",
        "\n",
        "\n",
        "Task 2 - Multiplication Table with for Loops\n",
        "Write a program that generates the multiplication table for any number provided by the user.\n",
        "\n",
        "Ask the user to input a number.\n",
        "Use a for loop to print the multiplication table for that number (from 1 to 10).\n",
        "Example Output:\n",
        "\n",
        "Enter a number: 4\n",
        "4 x 1 = 4 4 x 2 = 8 ... 4 x 10 = 40\n",
        "\n",
        "\n",
        "Task 3 - Find the Factorial\n",
        "Write a Python program to calculate the factorial of a number entered by the user.\n",
        "\n",
        "Ask the user for a number.\n",
        "Use a for loop to calculate the factorial.\n",
        "Print the result in a friendly format.\n",
        "For example:\n",
        "\n",
        "Enter a number: 5\n",
        "The factorial of 5 is 120.\n",
        "'''"
      ]
    },
    {
      "cell_type": "code",
      "source": [
        "# Task 1\n",
        "import time\n",
        "\n",
        "cd = int(input(\"Give me a positive number to start with: \"))\n",
        "while cd <= 0:\n",
        "  cd = int(input(\"Make sure it's a number greater than 0! \"))\n",
        "\n",
        "while cd > 0:\n",
        "  print(cd)\n",
        "  cd -= 1\n",
        "  time.sleep(1)\n",
        "print(\"Blast off! 🚀\")"
      ],
      "metadata": {
        "colab": {
          "base_uri": "https://localhost:8080/"
        },
        "id": "03RZosWOyRRD",
        "outputId": "4da6d1b1-b502-4e1d-8d7a-9ffbfc3bdcfc"
      },
      "execution_count": 7,
      "outputs": [
        {
          "output_type": "stream",
          "name": "stdout",
          "text": [
            "Give me a positive number to start with: 0\n",
            "Make sure it's a number greater than 0! -1\n",
            "Make sure it's a number greater than 0! -5\n",
            "Make sure it's a number greater than 0! 5\n",
            "5\n",
            "4\n",
            "3\n",
            "2\n",
            "1\n",
            "Blast off! 🚀\n"
          ]
        }
      ]
    },
    {
      "cell_type": "code",
      "source": [
        "# Task 2\n",
        "n = int(input(\"Enter a number: \"))\n",
        "\n",
        "for i in range(1,10):\n",
        "  x = n*i\n",
        "  print(f\"{n} x {i} = {x}\")"
      ],
      "metadata": {
        "colab": {
          "base_uri": "https://localhost:8080/"
        },
        "id": "R0oow7hQ0fhM",
        "outputId": "fc884d64-a8fd-4642-8129-f82ca6d2e996"
      },
      "execution_count": 11,
      "outputs": [
        {
          "output_type": "stream",
          "name": "stdout",
          "text": [
            "Enter a number: 5\n",
            "5 x 1 = 5\n",
            "5 x 2 = 10\n",
            "5 x 3 = 15\n",
            "5 x 4 = 20\n",
            "5 x 5 = 25\n",
            "5 x 6 = 30\n",
            "5 x 7 = 35\n",
            "5 x 8 = 40\n",
            "5 x 9 = 45\n"
          ]
        }
      ]
    },
    {
      "cell_type": "code",
      "source": [
        "# Task 3\n",
        "\n",
        "n = int(input(\"Enter a number and you shall receive it's factorial: \"))\n",
        "\n",
        "x = n # to set the inital value of n for the answer.\n",
        "for i in range(n-1,1,-1):\n",
        "  n *= i\n",
        "print(f\"The factorial of {x} is {n}.\")"
      ],
      "metadata": {
        "colab": {
          "base_uri": "https://localhost:8080/"
        },
        "id": "h5Fo3S782USE",
        "outputId": "17554ffc-d5ad-4cb9-c1cb-739053e31891"
      },
      "execution_count": 22,
      "outputs": [
        {
          "output_type": "stream",
          "name": "stdout",
          "text": [
            "Enter a number and you shall receive it's factorial: 5\n",
            "The factorial of 5 is 120.\n"
          ]
        }
      ]
    },
    {
      "cell_type": "code",
      "source": [],
      "metadata": {
        "id": "PlF-haXj5G26"
      },
      "execution_count": 22,
      "outputs": []
    }
  ]
}