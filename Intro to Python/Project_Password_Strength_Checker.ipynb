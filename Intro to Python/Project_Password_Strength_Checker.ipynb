{
  "nbformat": 4,
  "nbformat_minor": 0,
  "metadata": {
    "colab": {
      "provenance": []
    },
    "kernelspec": {
      "name": "python3",
      "display_name": "Python 3"
    },
    "language_info": {
      "name": "python"
    }
  },
  "cells": [
    {
      "cell_type": "markdown",
      "source": [
        "# Project: Password Strength Checker\n",
        "## Author: Serenity Smith\n",
        "## [Link to Colab](https://colab.research.google.com/drive/1RR2G8uOP6XnPA-69k5J74jTvYMJYYTfx?usp=sharing)"
      ],
      "metadata": {
        "id": "yLn6jmd4NUVn"
      }
    },
    {
      "cell_type": "code",
      "source": [
        "'''Step 1: Input the Password\n",
        "Ask the user to input a password. Use the input() function for this.\n",
        "\n",
        "Step 2: Evaluate the Password\n",
        "Check the password for the following:\n",
        "\n",
        "Length: It should be at least 8 characters.\n",
        "Contain at least one uppercase letter, one lowercase letter, one digit, and one special character (like @, #, $).\n",
        "Print appropriate messages for each check:\n",
        "If it passes all checks, print: \"Your password is strong! 💪\"\n",
        "If it fails any check, print a message like: \"Your password needs at least one digit.\"\n",
        "Use Python string methods like isupper(), islower(), isdigit(), and others to perform these checks.\n",
        "\n",
        "Step 3: Test with Different Passwords\n",
        "Here’s how the program should behave:\n",
        "\n",
        "Example Run 1:\n",
        "\n",
        "Enter a password: python123\n",
        "Your password needs at least one uppercase letter and one special character.\n",
        "Example Run 2:\n",
        "\n",
        "Enter a password: Python@123\n",
        "Your password is strong! 💪\n",
        "Bonus Challenge:\n",
        "Add a \"password strength meter\" that gives a score out of 10 based on how strong the password is.\n",
        "\n",
        "Make sure your program is clear, friendly, and fun to use!\n",
        "'''"
      ],
      "metadata": {
        "id": "6QxVG3udNft4"
      },
      "execution_count": null,
      "outputs": []
    },
    {
      "cell_type": "code",
      "source": [
        "password = input(\"Enter your password: \")\n",
        "\n",
        "while True:\n",
        "  while len(password) < 8:\n",
        "    print(\"Password needs to be at least 8 characters long.\")\n",
        "    password = input(\"Enter your password: \")\n",
        "\n",
        "  digit = 0\n",
        "  cap = 0\n",
        "  symbol = 0\n",
        "\n",
        "  for i in password:\n",
        "    if i.isdigit():\n",
        "      digit = 1\n",
        "    if i.isupper():\n",
        "      cap = 1\n",
        "    if not i.isalnum():\n",
        "      symbol = 1\n",
        "\n",
        "  if digit == 1 and cap == 1 and symbol == 1:\n",
        "    print(\"Your password is strong! 💪\")\n",
        "    break\n",
        "\n",
        "  elif digit == 1 and cap != 1 and symbol != 1:\n",
        "    print(\"Your password needs at least one uppercase letter and one special character.\")\n",
        "    password = input(\"Enter your password: \")\n",
        "\n",
        "  elif digit == 1 and cap == 1 and symbol != 1:\n",
        "    print(\"Your password needs at least one special character.\")\n",
        "    password = input(\"Enter your password: \")\n",
        "\n",
        "  elif digit != 1 and cap == 1 and symbol != 1:\n",
        "    print(\"Your password needs at least one number and one special character.\")\n",
        "    password = input(\"Enter your password: \")\n",
        "\n",
        "  elif digit != 1 and cap == 1 and symbol == 1:\n",
        "    print(\"Your password needs at least one number.\")\n",
        "    password = input(\"Enter your password: \")\n",
        "\n",
        "  elif digit != 1 and cap != 1 and symbol == 1:\n",
        "    print(\"Your password needs at least one uppercase letter and one number.\")\n",
        "    password = input(\"Enter your password: \")\n",
        "\n",
        "  elif digit == 1 and cap != 1 and symbol == 1:\n",
        "    print(\"Your password needs at least one uppercase letter.\")\n",
        "    password = input(\"Enter your password: \")\n",
        "\n",
        "  else:\n",
        "    print(\"Your password needs at least one uppercase letter, one number, and one special character.\")\n",
        "    password = input(\"Enter your password: \")\n",
        "\n",
        "\n"
      ],
      "metadata": {
        "colab": {
          "base_uri": "https://localhost:8080/"
        },
        "id": "BwmUlTaMNj_0",
        "outputId": "a42497a7-b141-4eea-a0ca-1eec7f78e96d"
      },
      "execution_count": 16,
      "outputs": [
        {
          "output_type": "stream",
          "name": "stdout",
          "text": [
            "Enter your password: helloworld\n",
            "Your password needs at least one uppercase letter, one number, and one special character.\n",
            "Enter your password: hell0world\n",
            "Your password needs at least one uppercase letter and one special character.\n",
            "Enter your password: Hell0world\n",
            "Your password needs at least one special character.\n",
            "Enter your password: Helloworld\n",
            "Your password needs at least one number and one special character.\n",
            "Enter your password: Hello_world\n",
            "Your password needs at least one number.\n",
            "Enter your password: hello_world\n",
            "Your password needs at least one uppercase letter and one number.\n",
            "Enter your password: hell0_world\n",
            "Your password needs at least one uppercase letter.\n",
            "Enter your password: Hell0_world\n",
            "Your password is strong! 💪\n"
          ]
        }
      ]
    }
  ]
}