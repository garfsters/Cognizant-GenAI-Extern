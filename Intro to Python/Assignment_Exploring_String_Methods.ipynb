{
  "nbformat": 4,
  "nbformat_minor": 0,
  "metadata": {
    "colab": {
      "provenance": []
    },
    "kernelspec": {
      "name": "python3",
      "display_name": "Python 3"
    },
    "language_info": {
      "name": "python"
    }
  },
  "cells": [
    {
      "cell_type": "markdown",
      "source": [
        "# Assignment: Exploring String Methods\n",
        "## Author: Serenity Smith\n",
        "## [Link to Colab](https://colab.research.google.com/drive/1ckthweWh593ih7DBf-EwN2nvz08eg8as?usp=sharing)"
      ],
      "metadata": {
        "id": "H5ReCeeSIlEV"
      }
    },
    {
      "cell_type": "code",
      "source": [
        "'''\n",
        "Task 1 - String Slicing and Indexing\n",
        "\n",
        "Create a string variable with the value \"Python is amazing!\".\n",
        "Extract the following using slicing:\n",
        "The first 6 characters (\"Python\")\n",
        "The word \"amazing\"\n",
        "The entire string in reverse order\n",
        "Print each of these slices with a clear label.\n",
        "Example Output:\n",
        "\n",
        "First word: Python\n",
        "Amazing part: amazing\n",
        "Reversed string: !gnizama si nohtyP\n",
        "\n",
        "\n",
        "Task 2 - String Methods\n",
        "\n",
        "Create a string with the value \" hello, python world! \".\n",
        "Use the following string methods and print the results:\n",
        "strip() to remove extra spaces\n",
        "capitalize() to capitalize the first letter\n",
        "replace() to replace \"world\" with \"universe\"\n",
        "upper() to convert the string to uppercase\n",
        "\n",
        "\n",
        "Task 3 - Check for Palindromes\n",
        "Write a Python program to check if a string is a palindrome (reads the same backward and forward).\n",
        "\n",
        "Ask the user to input a word.\n",
        "Use slicing to reverse the string and compare it with the original.\n",
        "Print a friendly message indicating whether the word is a palindrome.\n",
        "Example Run:\n",
        "\n",
        "Enter a word: madam\n",
        "Yes, 'madam' is a palindrome!\n",
        "'''"
      ],
      "metadata": {
        "id": "nohnCzSfIsqq"
      },
      "execution_count": null,
      "outputs": []
    },
    {
      "cell_type": "code",
      "source": [
        "# Task 1\n",
        "s = \"Python is amazing!\"\n",
        "\n",
        "py = s[0:6]\n",
        "print(f\"First word: {py}\")\n",
        "\n",
        "amaze = s[10:17]\n",
        "print(f\"Amazing part: {amaze}\")\n",
        "\n",
        "rev = s[::-1]\n",
        "print(f\"Backwards: {rev}\")"
      ],
      "metadata": {
        "colab": {
          "base_uri": "https://localhost:8080/"
        },
        "id": "76rY-cwUI2O0",
        "outputId": "114f7e0b-d11d-4a9a-e91b-15679927a273"
      },
      "execution_count": 3,
      "outputs": [
        {
          "output_type": "stream",
          "name": "stdout",
          "text": [
            "First word: Python\n",
            "Amazing part: amazing\n",
            "Backwards: !gnizama si nohtyP\n"
          ]
        }
      ]
    },
    {
      "cell_type": "code",
      "source": [
        "# Task 2\n",
        "\n",
        "s2 = \" hello, python world! \"\n",
        "\n",
        "s2 = s2.strip()\n",
        "print(s2)\n",
        "\n",
        "s2 = s2.capitalize()\n",
        "print(s2)\n",
        "\n",
        "s2 = s2.replace(\"world\", \"universe\")\n",
        "print(s2)\n",
        "\n",
        "s2 = s2.upper()\n",
        "print(s2)"
      ],
      "metadata": {
        "colab": {
          "base_uri": "https://localhost:8080/"
        },
        "id": "HQucxgDWJ0Ds",
        "outputId": "297475b4-3c5f-467c-d99c-040ba8fb22f5"
      },
      "execution_count": 10,
      "outputs": [
        {
          "output_type": "stream",
          "name": "stdout",
          "text": [
            "hello, python world!\n",
            "Hello, python world!\n",
            "Hello, python universe!\n",
            "HELLO, PYTHON UNIVERSE!\n"
          ]
        }
      ]
    },
    {
      "cell_type": "code",
      "source": [
        "# Task 3\n",
        "\n",
        "word = input(\"Enter a word and we'll tell you if it's a palindrome or not: \").lower().strip()\n",
        "\n",
        "back = word[::-1] # var for the inputted word backwards\n",
        "\n",
        "if word == back:\n",
        "  print(f\"'{word}' is a palindrome!\")\n",
        "else:\n",
        "  print(f\"'{word}' is NOT a palindrome!\")"
      ],
      "metadata": {
        "colab": {
          "base_uri": "https://localhost:8080/"
        },
        "id": "uZ41vvhvKnMB",
        "outputId": "46108a19-e92a-4631-af81-e8367826aab9"
      },
      "execution_count": 17,
      "outputs": [
        {
          "output_type": "stream",
          "name": "stdout",
          "text": [
            "Enter a word and we'll tell you if it's a palindrome or not: madam\n",
            "'madam' is a palindrome!\n"
          ]
        }
      ]
    }
  ]
}