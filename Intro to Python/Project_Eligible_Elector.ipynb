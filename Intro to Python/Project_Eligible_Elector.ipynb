{
  "nbformat": 4,
  "nbformat_minor": 0,
  "metadata": {
    "colab": {
      "provenance": []
    },
    "kernelspec": {
      "name": "python3",
      "display_name": "Python 3"
    },
    "language_info": {
      "name": "python"
    }
  },
  "cells": [
    {
      "cell_type": "markdown",
      "source": [
        "# Cognizant Generative AI Extern - Eligible Elector\n",
        "## Author: Serenity Smith\n",
        "## Date: May 4th, 2025\n",
        "## [Link to Colab](https://colab.research.google.com/drive/1H3EVFViWE331hNokGP1H78oCRFh05Qa1?usp=sharing)"
      ],
      "metadata": {
        "id": "YHcAW1uOtUyv"
      }
    },
    {
      "cell_type": "code",
      "source": [
        "'''\n",
        "Step 1: Ask the User’s Age\n",
        "Your program should start by asking the user:\n",
        "\n",
        "age = int(input(\"How old are you? \"))\n",
        "Make sure you convert the input into an integer so you can use it in calculations later.\n",
        "\n",
        "Step 2: Decide the Eligibility\n",
        "Use a conditional statement to check if the age is 18 or older. Here’s the logic:\n",
        "\n",
        "If the user’s age is 18 or above, display a warm message like:\n",
        "\"Congratulations! You are eligible to vote. Go make a difference!\"\n",
        "If the user’s age is less than 18, calculate how many years they have to wait. Display a friendly message like:\n",
        "\"Oops! You’re not eligible yet. But hey, only X more years to go!\"\n",
        "Step 3: Test with Different Ages\n",
        "Here’s an example of how your program should behave:\n",
        "\n",
        "Example Run 1:\n",
        "\n",
        "How old are you? 16\n",
        "Oops! You’re not eligible yet. But hey, only 2 more years to go!\n",
        "Example Run 2:\n",
        "\n",
        "How old are you? 20\n",
        "Congratulations! You are eligible to vote. Go make a difference!\n",
        "Step 4: Polish It Up\n",
        "Make sure your program is friendly, clear, and fun! Add comments to explain what your code is doing and maybe throw in a fun line or emoji for extra flair.\n",
        "'''"
      ],
      "metadata": {
        "id": "eDOCpEM5tdbW"
      },
      "execution_count": null,
      "outputs": []
    },
    {
      "cell_type": "code",
      "source": [
        "# print fun intro statement\n",
        "print(\"Hello, citizen! We are checking your age to see if you're eligible to vote or not.\")\n",
        "# Test with age younger than 18\n",
        "age = int(input(\"How old are you? \"))\n",
        "\n",
        "\n",
        "if age >=0 and age < 18: # age range between 0-17\n",
        "  print(\"You are not eligible to vote, sadly. Only\", 18-age, \"years left!\")\n",
        "elif age >= 18: # age range 18+\n",
        "  print(\"Yay! You are eligible to vote. Don't forget to register and vote locally..\")\n",
        "else: # age range in the negatives\n",
        "  print(\"Bro, you are not\", age, \"years old. That is NEGATIVE!!\")"
      ],
      "metadata": {
        "colab": {
          "base_uri": "https://localhost:8080/"
        },
        "id": "VmcH5o-CWjxQ",
        "outputId": "6594ce62-624a-4d9b-86d1-472bd623af24"
      },
      "execution_count": 10,
      "outputs": [
        {
          "output_type": "stream",
          "name": "stdout",
          "text": [
            "Hello, citizen! We are checking your age to see if you're eligible to vote or not.\n",
            "How old are you? 15\n",
            "You are not eligible to vote, sadly. Only 3 years left!\n"
          ]
        }
      ]
    },
    {
      "cell_type": "code",
      "source": [
        "# print fun intro statement\n",
        "print(\"Hello, citizen! We are checking your age to see if you're eligible to vote or not.\")\n",
        "# Test with age 18 and older\n",
        "age = int(input(\"How old are you? \"))\n",
        "\n",
        "if age >=0 and age < 18:\n",
        "  print(\"You are not eligible to vote, sadly. Only\", 18-age, \"years left!\")\n",
        "elif age >= 18:\n",
        "  print(\"Yay! You are eligible to vote. Don't forget to register and vote locally.\")\n",
        "else:\n",
        "  print(\"Bro, you are not\", age, \"years old. That is NEGATIVE!!\")"
      ],
      "metadata": {
        "colab": {
          "base_uri": "https://localhost:8080/"
        },
        "id": "DVhCnEoHXazm",
        "outputId": "3e1bd5be-4cac-4fea-d367-123e1a7bd6aa"
      },
      "execution_count": 9,
      "outputs": [
        {
          "output_type": "stream",
          "name": "stdout",
          "text": [
            "Hello, citizen! We are checking your age to see if you're eligible to vote or not.\n",
            "How old are you? 20\n",
            "Yay! You are eligible to vote. Don't forget to register and vote locally.\n"
          ]
        }
      ]
    },
    {
      "cell_type": "code",
      "source": [
        "# print fun intro statement\n",
        "print(\"Hello, citizen! We are checking your age to see if you're eligible to vote or not.\")\n",
        "# Test with age in the NEGATIVES!! -_-\n",
        "age = int(input(\"How old are you? \"))\n",
        "\n",
        "if age >=0 and age < 18:\n",
        "  print(\"You are not eligible to vote, sadly. Only\", 18-age, \"years left!\")\n",
        "elif age >= 18:\n",
        "  print(\"Yay! You are eligible to vote. Don't forget to register and vote locally.\")\n",
        "else:\n",
        "  print(\"Bro, you are not\", age, \"years old. That is NEGATIVE!!\")"
      ],
      "metadata": {
        "colab": {
          "base_uri": "https://localhost:8080/"
        },
        "id": "808e-NdDXdi6",
        "outputId": "cf841fc1-ef2b-4e1b-884a-3ecd7e9c476d"
      },
      "execution_count": 11,
      "outputs": [
        {
          "output_type": "stream",
          "name": "stdout",
          "text": [
            "Hello, citizen! We are checking your age to see if you're eligible to vote or not.\n",
            "How old are you? -10000\n",
            "Bro, you are not -10000 years old. That is NEGATIVE!!\n"
          ]
        }
      ]
    }
  ]
}