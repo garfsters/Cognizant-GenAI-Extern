{
  "nbformat": 4,
  "nbformat_minor": 0,
  "metadata": {
    "colab": {
      "provenance": []
    },
    "kernelspec": {
      "name": "python3",
      "display_name": "Python 3"
    },
    "language_info": {
      "name": "python"
    }
  },
  "cells": [
    {
      "cell_type": "markdown",
      "source": [
        "# Assignment: About Parameters of Functions\n",
        "## Author: Serenity Smith\n",
        "## [Link to Colab](https://colab.research.google.com/drive/1lLpJtYojEZ-lTqdMIu-ZbyfzkMyQDj2i?usp=sharing)"
      ],
      "metadata": {
        "id": "3lf1AfHVgarS"
      }
    },
    {
      "cell_type": "code",
      "source": [
        "'''\n",
        "Task 1 - Writing Functions\n",
        "Create a function greet_user that accepts a name as a parameter and prints a personalized greeting.\n",
        "Then, write another function add_numbers that takes two numbers as parameters, adds them, and returns the result.\n",
        "\n",
        "Example Output:\n",
        "\n",
        "plaintext\n",
        "Copy code\n",
        "Hello, Alice! Welcome aboard. The sum of 5 and 10 is 15.\n",
        "\n",
        "\n",
        "\n",
        "Task 2 - Using Default Parameters\n",
        "Create a function describe_pet that accepts two parameters:\n",
        "\n",
        "pet_name (string)\n",
        "animal_type (string, default value is \"dog\").\n",
        "The function should print a description of the pet.\n",
        "\n",
        "Example Output:\n",
        "\n",
        "plaintext\n",
        "Copy code\n",
        "I have a dog named Buddy. I have a cat named Whiskers.\n",
        "\n",
        "\n",
        "\n",
        "Task 3 - Functions with Variable Arguments\n",
        "Write a function make_sandwich that accepts a variable number of arguments for sandwich ingredients and prints them as a list.\n",
        "\n",
        "Example Output:\n",
        "\n",
        "plaintext\n",
        "Copy code\n",
        "Making a sandwich with the following ingredients: - Lettuce - Tomato - Cheese\n",
        "\n",
        "\n",
        "\n",
        "Task 4 - Understanding Recursion\n",
        "Write a recursive function factorial to calculate the factorial of a number.\n",
        "Then, write another recursive function fibonacci to calculate the nth number in the Fibonacci sequence.\n",
        "\n",
        "Example Output:\n",
        "\n",
        "plaintext\n",
        "Copy code\n",
        "Factorial of 5 is 120. The 6th Fibonacci number is 8.\n",
        "'''"
      ],
      "metadata": {
        "id": "urBwgtGNgl9A"
      },
      "execution_count": null,
      "outputs": []
    },
    {
      "cell_type": "code",
      "source": [
        "# Task 1\n",
        "\n",
        "def add_numbers(a, b):\n",
        "  return a + b\n",
        "add_numbers(5, 10)\n",
        "\n",
        "def greet_user(name):\n",
        "  print(f\"Hello, {name}! Welcome aboard. The sum of 5 and 10 is {add_numbers(5, 10)}.\")\n",
        "\n",
        "greet_user('Serenity')\n"
      ],
      "metadata": {
        "colab": {
          "base_uri": "https://localhost:8080/"
        },
        "id": "lVUY5LtjgwGo",
        "outputId": "b5524e70-ee41-4846-beff-3fea6269c06d"
      },
      "execution_count": 4,
      "outputs": [
        {
          "output_type": "stream",
          "name": "stdout",
          "text": [
            "Hello, Serenity! Welcome aboard. The sum of 5 and 10 is 15.\n"
          ]
        }
      ]
    },
    {
      "cell_type": "code",
      "source": [
        "# Task 2\n",
        "def describe_pet(pet_name, animal_type=\"dog\"):\n",
        "  return f\"I have a {animal_type} named {pet_name}.\"\n",
        "\n",
        "describe_pet(\"Prince\", \"cat\")"
      ],
      "metadata": {
        "colab": {
          "base_uri": "https://localhost:8080/",
          "height": 35
        },
        "id": "rdNZekY-h898",
        "outputId": "5ca57eec-39bc-4623-cc3c-c5cc1e8d1dcc"
      },
      "execution_count": 5,
      "outputs": [
        {
          "output_type": "execute_result",
          "data": {
            "text/plain": [
              "'I have a cat named Prince.'"
            ],
            "application/vnd.google.colaboratory.intrinsic+json": {
              "type": "string"
            }
          },
          "metadata": {},
          "execution_count": 5
        }
      ]
    },
    {
      "cell_type": "code",
      "source": [
        "# Task 3\n",
        "\n",
        "def make_sandwich(*ingredients):\n",
        "  print(f\"Making a sandwich with the following ingredients: {ingredients}.\")\n",
        "\n",
        "make_sandwich(\"lettuce\", \"tomato\", \"cheese\")\n"
      ],
      "metadata": {
        "colab": {
          "base_uri": "https://localhost:8080/"
        },
        "id": "8d1NYhnjkcfx",
        "outputId": "2dbebf93-0690-4b19-a612-cc6563f29c88"
      },
      "execution_count": 23,
      "outputs": [
        {
          "output_type": "stream",
          "name": "stdout",
          "text": [
            "Making a sandwich with the following ingredients: ('lettuce', 'tomato', 'cheese').\n"
          ]
        }
      ]
    },
    {
      "cell_type": "code",
      "source": [
        "# Task 4\n",
        "\n",
        "def factorial(n):\n",
        "  if n == 1:\n",
        "    return 1\n",
        "  elif n > 1:\n",
        "    return n * factorial(n-1)\n",
        "  else:\n",
        "    return \"Impossible. Try a positive number.\"\n",
        "print(factorial(6))\n",
        "\n",
        "def fibonacci(n):\n",
        "  if n <= 0:\n",
        "    return []\n",
        "  elif n == 1:\n",
        "    return[0]\n",
        "  else:\n",
        "    fib = [0,1]\n",
        "    while len(fib) < n:\n",
        "      next = fib[-1] + fib[-2]\n",
        "      fib.append(next)\n",
        "    return fib\n",
        "\n",
        "fibonacci(10)"
      ],
      "metadata": {
        "colab": {
          "base_uri": "https://localhost:8080/"
        },
        "id": "tb6LRnK9lBk7",
        "outputId": "4d110b42-9cb0-4b21-df54-d8faa87df736"
      },
      "execution_count": 11,
      "outputs": [
        {
          "output_type": "stream",
          "name": "stdout",
          "text": [
            "720\n"
          ]
        },
        {
          "output_type": "execute_result",
          "data": {
            "text/plain": [
              "[0, 1, 1, 2, 3, 5, 8, 13, 21, 34]"
            ]
          },
          "metadata": {},
          "execution_count": 11
        }
      ]
    }
  ]
}