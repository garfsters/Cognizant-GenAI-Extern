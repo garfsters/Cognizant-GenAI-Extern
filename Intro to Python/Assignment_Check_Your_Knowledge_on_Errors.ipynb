{
  "nbformat": 4,
  "nbformat_minor": 0,
  "metadata": {
    "colab": {
      "provenance": []
    },
    "kernelspec": {
      "name": "python3",
      "display_name": "Python 3"
    },
    "language_info": {
      "name": "python"
    }
  },
  "cells": [
    {
      "cell_type": "markdown",
      "source": [
        "# Assignment: Check Your Knowledge on Errors\n",
        "## Author: Serenity Smith\n",
        "## [Link to Colab](https://colab.research.google.com/drive/1DsqwD9ccXeJ_X8NBbf2cQd2VgNPpki0K?usp=sharing)"
      ],
      "metadata": {
        "id": "thCqGn_5y75g"
      }
    },
    {
      "cell_type": "code",
      "source": [
        "'''\n",
        "Task 1 - Understanding Python Exceptions\n",
        "Write a Python program that:\n",
        "\n",
        "Prompts the user to enter a number.\n",
        "Tries to divide 100 by the number.\n",
        "Handles the following exceptions:\n",
        "ZeroDivisionError (when dividing by zero).\n",
        "ValueError (when the user enters non-numeric input).\n",
        "Prints appropriate error messages for each exception.\n",
        "Example Output:\n",
        "\n",
        "Enter a number: 0 Oops! You cannot divide by zero.\n",
        "Enter a number: abc Invalid input! Please enter a valid number.\n",
        "Enter a number: 4 100 divided by 4 is 25.0\n",
        "\n",
        "\n",
        "\n",
        "Task 2 - Types of Exceptions\n",
        "Create a program that intentionally raises and handles the following exceptions:\n",
        "\n",
        "IndexError by accessing an invalid list index.\n",
        "KeyError by trying to access a non-existent key in a dictionary.\n",
        "TypeError by adding a string and an integer.\n",
        "Explain in comments how each error occurs and how it is handled.\n",
        "\n",
        "Example Output:\n",
        "\n",
        "IndexError occurred! List index out of range. KeyError occurred! Key not found in the dictionary. TypeError occurred! Unsupported operand types.\n",
        "\n",
        "\n",
        "\n",
        "Task 3 - Using try...except...else...finally\n",
        "Write a program that:\n",
        "\n",
        "Prompts the user to enter two numbers.\n",
        "Tries to divide the first number by the second number.\n",
        "Implements the following:\n",
        "try block to attempt the division.\n",
        "except block to handle exceptions.\n",
        "else block to display the result if no exceptions occur.\n",
        "finally block to print a closing message regardless of exceptions.\n",
        "Example Output:\n",
        "\n",
        "Enter the first number: 10 Enter the second number: 2 The result is 5.0. This block always executes.\n",
        "'''"
      ],
      "metadata": {
        "id": "2iewgn8vzNDE"
      },
      "execution_count": null,
      "outputs": []
    },
    {
      "cell_type": "code",
      "source": [
        "# Task 1\n",
        "\n",
        "try:\n",
        "  num = int(input(\"Enter a number: \"))\n",
        "  a = 100 / num\n",
        "except ValueError:\n",
        "  print(\"That's not a valid number!\")\n",
        "except ZeroDivisionError:\n",
        "  print(\"You can't divide by zero!\")\n",
        "else:\n",
        "  print(f\"100 divided by {num} is {a}.\")"
      ],
      "metadata": {
        "colab": {
          "base_uri": "https://localhost:8080/"
        },
        "id": "aVR7dql6zi2D",
        "outputId": "cc23ec17-ab9e-4b28-e0c6-d7b1c014e357"
      },
      "execution_count": 4,
      "outputs": [
        {
          "output_type": "stream",
          "name": "stdout",
          "text": [
            "Enter a number: 10\n",
            "100 divided by 10 is 10.0.\n"
          ]
        }
      ]
    },
    {
      "cell_type": "code",
      "source": [
        "# Task 2\n",
        "\n",
        "try:\n",
        "  my_list = [1, 2, 3]\n",
        "  i = int(input(\"Find an index in the list: \"))\n",
        "  print(my_list[i])\n",
        "except IndexError:\n",
        "  print(\"Not a valid list index!\")\n",
        "\n",
        "try:\n",
        "  my_dict = {\"name\":\"Serenity\", \"age\":20}\n",
        "  k = input(\"Find a key: \")\n",
        "  print(my_dict[k])\n",
        "except KeyError:\n",
        "  print(\"Key does not exist in dictionary!\")\n",
        "\n",
        "try:\n",
        "  word = input(\"Enter a word: \")\n",
        "  print(word + 5)\n",
        "except TypeError:\n",
        "  print(\"You can't add strings and integers!\")"
      ],
      "metadata": {
        "colab": {
          "base_uri": "https://localhost:8080/"
        },
        "id": "rJporik-1QEW",
        "outputId": "d58dfe57-2124-4c33-f51d-c0303e8c26b3"
      },
      "execution_count": 6,
      "outputs": [
        {
          "output_type": "stream",
          "name": "stdout",
          "text": [
            "Find an index in the list: 6\n",
            "Not a valid list index!\n",
            "Find a key: city\n",
            "Key does not exist in dictionary!\n",
            "Enter a word: 5\n",
            "You can't add strings and integers!\n"
          ]
        }
      ]
    },
    {
      "cell_type": "code",
      "source": [
        "# Task 3\n",
        "try:\n",
        "  num1 = int(input(\"Enter your first number: \"))\n",
        "  num2 = int(input(\"Enter your second number: \"))\n",
        "  num3 = num1 / num2\n",
        "  print(num3)\n",
        "except ZeroDivisionError:\n",
        "  print(\"You can't divide by zero!\")\n",
        "except ValueError:\n",
        "  print(\"Must be a valid number!\")\n",
        "else:\n",
        "  print(f\"The result is {num3}.\")\n",
        "finally:\n",
        "  print(\"This block always executes heheh.\")\n"
      ],
      "metadata": {
        "colab": {
          "base_uri": "https://localhost:8080/"
        },
        "id": "5RbPGfsy3wm7",
        "outputId": "dca884ff-c239-4a39-b21a-ab48aaea8734"
      },
      "execution_count": 10,
      "outputs": [
        {
          "output_type": "stream",
          "name": "stdout",
          "text": [
            "Enter your first number: hello\n",
            "Must be a valid number!\n",
            "This block always executes heheh.\n"
          ]
        }
      ]
    }
  ]
}